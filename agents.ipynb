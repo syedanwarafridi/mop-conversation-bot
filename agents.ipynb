{
 "cells": [
  {
   "cell_type": "code",
   "execution_count": 1,
   "metadata": {},
   "outputs": [],
   "source": [
    "from typing import Annotated\n",
    "\n",
    "from langchain_core.tools import tool"
   ]
  },
  {
   "cell_type": "markdown",
   "metadata": {},
   "source": [
    "# Tools"
   ]
  },
  {
   "cell_type": "code",
   "execution_count": 2,
   "metadata": {},
   "outputs": [],
   "source": [
    "import requests\n",
    "from langchain_community.tools.tavily_search import TavilySearchResults\n",
    "import os\n",
    "\n",
    "os.environ['TAVILY_API_KEY'] = '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'\n",
    "\n",
    "@tool\n",
    "def query_api(query: str):\n",
    "    \"\"\" This tool queries the MOP API and returns the top 3 results \"\"\"\n",
    "    \n",
    "    BASE_URL = \"https://mop.rekt.life/v1/query\"\n",
    "    PARAMS = {\"query\": query}\n",
    "    \n",
    "    try:\n",
    "        response = requests.get(BASE_URL, params=PARAMS)\n",
    "        \n",
    "        if response.status_code == 200:\n",
    "            response = response.json()\n",
    "            top_items = sorted(response[\"data\"], key=lambda x: x['distance'])[:3]  # Get top 2 items\n",
    "            return [item['chunk'] for item in top_items]\n",
    "        else:\n",
    "            return {\"error\": f\"Error {response.status_code}: {response.text}\"}\n",
    "    except requests.exceptions.RequestException as e:\n",
    "        return {\"error\": f\"Request failed: {e}\"}\n",
    "    \n",
    "    \n",
    "@tool\n",
    "def tavily_data(query: str):\n",
    "    \"\"\" This tool queries the Tavily API and returns the top 5 results \"\"\"\n",
    "    tool = TavilySearchResults(max_results=5)\n",
    "    results = tool.invoke(query)\n",
    "    filtered_results = results #[{\"title\": item[\"title\"], \"content\": item[\"content\"]} for item in results]\n",
    "    return filtered_results\n"
   ]
  },
  {
   "cell_type": "code",
   "execution_count": 3,
   "metadata": {},
   "outputs": [],
   "source": [
    "# tavily_data(\"python\")\n",
    "# query_api(\"btc\")"
   ]
  },
  {
   "cell_type": "markdown",
   "metadata": {},
   "source": [
    "# Load Model"
   ]
  },
  {
   "cell_type": "code",
   "execution_count": 4,
   "metadata": {},
   "outputs": [],
   "source": [
    "from langchain_huggingface import ChatHuggingFace"
   ]
  },
  {
   "cell_type": "code",
   "execution_count": null,
   "metadata": {},
   "outputs": [
    {
     "name": "stderr",
     "output_type": "stream",
     "text": [
      "c:\\Users\\Asus\\.conda\\envs\\persona\\lib\\site-packages\\tqdm\\auto.py:21: TqdmWarning: IProgress not found. Please update jupyter and ipywidgets. See https://ipywidgets.readthedocs.io/en/stable/user_install.html\n",
      "  from .autonotebook import tqdm as notebook_tqdm\n",
      "Downloading shards: 100%|██████████| 4/4 [00:03<00:00,  1.16it/s]\n",
      "Loading checkpoint shards: 100%|██████████| 4/4 [00:05<00:00,  1.43s/it]\n",
      "The new embeddings will be initialized from a multivariate normal distribution that has old embeddings' mean and covariance. As described in this article: https://nlp.stanford.edu/~johnhew/vocab-expansion.html. To disable this, use `mean_resizing=False`\n",
      "The new lm_head weights will be initialized from a multivariate normal distribution that has old embeddings' mean and covariance. As described in this article: https://nlp.stanford.edu/~johnhew/vocab-expansion.html. To disable this, use `mean_resizing=False`\n",
      "Device set to use cuda:0\n"
     ]
    }
   ],
   "source": [
    "from transformers import (\n",
    "    AutoModelForCausalLM,\n",
    "    AutoTokenizer,\n",
    "    BitsAndBytesConfig,\n",
    "    HfArgumentParser,\n",
    "    TrainingArguments,\n",
    "    pipeline,\n",
    "    logging,\n",
    ")\n",
    "from langchain_huggingface.llms.huggingface_pipeline import HuggingFacePipeline\n",
    "from langchain_huggingface import ChatHuggingFace\n",
    "import os, torch\n",
    "from datasets import load_dataset\n",
    "\n",
    "torch_dtype = torch.float16\n",
    "attn_implementation = \"eager\"\n",
    "\n",
    "bnb_config = BitsAndBytesConfig(\n",
    "    load_in_4bit=True,\n",
    "    bnb_4bit_quant_type=\"nf4\",\n",
    "    bnb_4bit_compute_dtype=torch_dtype,\n",
    "    bnb_4bit_use_double_quant=True,\n",
    "    llm_int8_enable_fp32_cpu_offload=True\n",
    ")\n",
    "\n",
    "tokenizer = AutoTokenizer.from_pretrained(\"syedanwar/mop-conversation-bot\")\n",
    "\n",
    "model = AutoModelForCausalLM.from_pretrained(\n",
    "    \"syedanwar/mop-conversation-bot\",\n",
    "    torch_dtype=torch.float16,\n",
    "    # quantization_config=bnb_config,\n",
    "    device_map=\"auto\",\n",
    "    attn_implementation=attn_implementation,\n",
    ")\n",
    "\n",
    "model.resize_token_embeddings(len(tokenizer), pad_to_multiple_of=8)\n",
    "\n",
    "pipe = pipeline(\n",
    "    \"text-generation\",\n",
    "    model=model,\n",
    "    tokenizer=tokenizer,\n",
    "    torch_dtype=torch.float16,\n",
    "    device_map=\"auto\",\n",
    "    max_new_tokens=512, \n",
    "    do_sample=True, \n",
    "    temperature=0.9, \n",
    "    top_k=250, \n",
    "    top_p=0.95\n",
    ")\n",
    "\n",
    "hf = HuggingFacePipeline(pipeline=pipe)"
   ]
  },
  {
   "cell_type": "code",
   "execution_count": 6,
   "metadata": {},
   "outputs": [],
   "source": [
    "chat_model = ChatHuggingFace(llm=hf)"
   ]
  },
  {
   "cell_type": "markdown",
   "metadata": {},
   "source": [
    "# Agent Nodes"
   ]
  },
  {
   "cell_type": "code",
   "execution_count": 7,
   "metadata": {},
   "outputs": [],
   "source": [
    "def make_system_prompt(suffix: str) -> str:\n",
    "    return (\n",
    "        \"You are a helpful AI assistant, collaborating with other assistants.\"\n",
    "        \" Use the provided tools to progress towards answering the question.\"\n",
    "        \" If you are unable to fully answer, that's OK, another assistant with different tools \"\n",
    "        \" will help where you left off. Execute what you can to make progress.\"\n",
    "        f\"\\n{suffix}\"\n",
    "    )"
   ]
  },
  {
   "cell_type": "code",
   "execution_count": 8,
   "metadata": {},
   "outputs": [],
   "source": [
    "def make_system_prompt_for_replier(suffix: str) -> str:\n",
    "    return (\n",
    "        \"You are a crypto market expert that gives informative answers to user questions based on the context.\"\n",
    "        \"You can be wrong but you have to be decisive\"\n",
    "        \" Use the context given by the `context_builder` to give an answer.\"\n",
    "        \" If you or any of the other assistants have the final answer or deliverable,\"\n",
    "        \" prefix your response with FINAL ANSWER so the team knows to stop.\"\n",
    "        f\"\\n{suffix}\"\n",
    "    )"
   ]
  },
  {
   "cell_type": "code",
   "execution_count": 9,
   "metadata": {},
   "outputs": [],
   "source": [
    "from typing import Literal\n",
    "import re\n",
    "from langchain_core.messages import BaseMessage, HumanMessage\n",
    "from langgraph.prebuilt import create_react_agent\n",
    "from langgraph.graph import MessagesState, END\n",
    "from langgraph.types import Command\n",
    "\n",
    "llm = chat_model\n",
    "\n",
    "def get_next_node(last_message: BaseMessage, goto: str):\n",
    "    if \"FINAL ANSWER\" in last_message.content:\n",
    "        return END\n",
    "    return goto\n",
    "\n",
    "# Manually execute tools and pass data to context_builder\n",
    "def run_tools(state: MessagesState):\n",
    "    human_message = next(\n",
    "        (msg for msg in state[\"messages\"] if isinstance(msg, HumanMessage)), None\n",
    "    )\n",
    "    if not human_message:\n",
    "        raise ValueError(\"No human message found in state\")\n",
    "    \n",
    "    tool_input = human_message.content  # Extract input string\n",
    "    # tavily_result = tavily_data(tool_input)\n",
    "    query_api_result = query_api(tool_input)\n",
    "    \n",
    "    # print(\"Tool tavily_data output:\", tavily_result)\n",
    "    print(\"Tool query_api output:\", query_api_result)\n",
    "    \n",
    "    return f\"{query_api_result}\"\n",
    "\n",
    "# Research agent and node\n",
    "def context_node(\n",
    "    state: MessagesState,\n",
    ") -> Command[Literal[\"replier\"]]:\n",
    "    context_data = run_tools(state)  # Manually get tool data\n",
    "    \n",
    "    summary_prompt = make_system_prompt(\n",
    "        f\"Generate a detailed summary of the provided context data. Here is the context:\\n{context_data}. \\n **Strict Instructions**: Write a detailed summary in almost 2 or 3 paragraphs not less.\"\n",
    "    )\n",
    "    \n",
    "    context_builder = create_react_agent(\n",
    "        llm,\n",
    "        tools=[],\n",
    "        prompt=summary_prompt,\n",
    "    )\n",
    "    \n",
    "    result = context_builder.invoke({\"messages\": state[\"messages\"]})\n",
    "    summary = result[\"messages\"][-1].content  # Extract only the summary\n",
    "    pattern = r'<\\|end_header_id\\|>(?!.*<\\|end_header_id\\|>)(.*)'\n",
    "\n",
    "    match = re.search(pattern, summary, re.DOTALL)\n",
    "    result = match.group(1).strip()\n",
    "    \n",
    "    print(\"Generated Summary:\", result)\n",
    "    \n",
    "    return Command(\n",
    "        update={\n",
    "            \"messages\": [HumanMessage(content=summary, name=\"context_summary\")],\n",
    "        },\n",
    "        goto=\"replier\",\n",
    "    )\n",
    "\n",
    "# ---------------------------------------- Replier AGENT ----------------------------------------\n",
    "replier = create_react_agent(\n",
    "    llm,\n",
    "    tools=[],\n",
    "    prompt=make_system_prompt_for_replier(\n",
    "        \"Answer the user question based on the provided summary. It should not be completely same as the summary.\"\n",
    "    ),\n",
    ")\n",
    "\n",
    "def replier_node(state: MessagesState) -> Command[Literal[\"context_builder\", END]]:\n",
    "    result = replier.invoke(state)\n",
    "    goto = get_next_node(result[\"messages\"][-1], \"context_builder\")\n",
    "    \n",
    "    result[\"messages\"][-1] = HumanMessage(\n",
    "        content=result[\"messages\"][-1].content, name=\"replier\"\n",
    "    )\n",
    "    return Command(\n",
    "        update={\n",
    "            \"messages\": result[\"messages\"],\n",
    "        },\n",
    "        goto=goto,\n",
    "    )"
   ]
  },
  {
   "cell_type": "code",
   "execution_count": 10,
   "metadata": {},
   "outputs": [],
   "source": [
    "from langgraph.graph import StateGraph, START\n",
    "\n",
    "workflow = StateGraph(MessagesState)\n",
    "workflow.add_node(\"context_builder\", context_node)\n",
    "workflow.add_node(\"replier\", replier_node)\n",
    "\n",
    "workflow.add_edge(START, \"context_builder\")\n",
    "graph = workflow.compile()"
   ]
  },
  {
   "cell_type": "code",
   "execution_count": 11,
   "metadata": {},
   "outputs": [
    {
     "data": {
      "image/png": "[encoded data removed]",
      "text/plain": [
       "<IPython.core.display.Image object>"
      ]
     },
     "metadata": {},
     "output_type": "display_data"
    }
   ],
   "source": [
    "from IPython.display import Image, display\n",
    "\n",
    "try:\n",
    "    display(Image(graph.get_graph().draw_mermaid_png()))\n",
    "except Exception:\n",
    "    # This requires some extra dependencies and is optional\n",
    "    pass"
   ]
  },
  {
   "cell_type": "code",
   "execution_count": 12,
   "metadata": {},
   "outputs": [
    {
     "name": "stderr",
     "output_type": "stream",
     "text": [
      "C:\\Users\\Asus\\AppData\\Local\\Temp\\ipykernel_27840\\2688784895.py:25: LangChainDeprecationWarning: The method `BaseTool.__call__` was deprecated in langchain-core 0.1.47 and will be removed in 1.0. Use :meth:`~invoke` instead.\n",
      "  query_api_result = query_api(tool_input)\n"
     ]
    },
    {
     "name": "stdout",
     "output_type": "stream",
     "text": [
      "Tool query_api output: ['Name: The Next Bitcoin\\nSymbol: BUTTCOIN\\nTokenAddress: FasH397CeZLNYWkd3wWK9vrmjd1z93n3b59DssRXpump\\nDescription: Unlock the power of your farts by collecting butt coins.\\r\\n\\nPriceUsd: 0.001604\\nPriceChange1h: 1.286706\\nPriceChange24h: -4.225911\\nMarketCapUsd: 1602513.443273\\nVolume24h: 1786458.000000\\nCirculatingSupply: 998905653.599375\\nTotalSupply: 998905653.599375\\nMaxSupply: 998905653.599375\\nSource: solana_tracker\\nPlatform: Solana', 'Name: The Next Bitcoin\\nSymbol: BUTTCOIN\\nTokenAddress: FasH397CeZLNYWkd3wWK9vrmjd1z93n3b59DssRXpump\\nDescription: Unlock the power of your farts by collecting butt coins.\\r\\n\\nPriceUsd: 0.001848\\nPriceChange1h: 7.140283\\nPriceChange24h: 16.638152\\nMarketCapUsd: 1845609.522512\\nVolume24h: 1831351.000000\\nCirculatingSupply: 998905653.599375\\nTotalSupply: 998905653.599375\\nMaxSupply: 998905653.599375\\nSource: solana_tracker\\nPlatform: Solana', 'Name: The Next Bitcoin\\nSymbol: BUTTCOIN\\nTokenAddress: FasH397CeZLNYWkd3wWK9vrmjd1z93n3b59DssRXpump\\nDescription: Unlock the power of your farts by collecting butt coins.\\r\\n\\nPriceUsd: 0.001738\\nPriceChange1h: 8.296700\\nPriceChange24h: 4.404699\\nMarketCapUsd: 1736216.816435\\nVolume24h: 1798266.000000\\nCirculatingSupply: 998905653.599375\\nTotalSupply: 998905653.599375\\nMaxSupply: 998905653.599375\\nSource: solana_tracker\\nPlatform: Solana']\n",
      "Generated Summary: suggest you learn etherscan before claiming imaginary returns terminal data tells me otherwise\n",
      "{'context_builder': {'messages': [HumanMessage(content=\"<|begin_of_text|><|start_header_id|>system<|end_header_id|>\\n\\nYou are a helpful AI assistant, collaborating with other assistants. Use the provided tools to progress towards answering the question. If you are unable to fully answer, that's OK, another assistant with different tools  will help where you left off. Execute what you can to make progress.\\nGenerate a detailed summary of the provided context data. Here is the context:\\n['Name: The Next Bitcoin\\\\nSymbol: BUTTCOIN\\\\nTokenAddress: FasH397CeZLNYWkd3wWK9vrmjd1z93n3b59DssRXpump\\\\nDescription: Unlock the power of your farts by collecting butt coins.\\\\r\\\\n\\\\nPriceUsd: 0.001604\\\\nPriceChange1h: 1.286706\\\\nPriceChange24h: -4.225911\\\\nMarketCapUsd: 1602513.443273\\\\nVolume24h: 1786458.000000\\\\nCirculatingSupply: 998905653.599375\\\\nTotalSupply: 998905653.599375\\\\nMaxSupply: 998905653.599375\\\\nSource: solana_tracker\\\\nPlatform: Solana', 'Name: The Next Bitcoin\\\\nSymbol: BUTTCOIN\\\\nTokenAddress: FasH397CeZLNYWkd3wWK9vrmjd1z93n3b59DssRXpump\\\\nDescription: Unlock the power of your farts by collecting butt coins.\\\\r\\\\n\\\\nPriceUsd: 0.001848\\\\nPriceChange1h: 7.140283\\\\nPriceChange24h: 16.638152\\\\nMarketCapUsd: 1845609.522512\\\\nVolume24h: 1831351.000000\\\\nCirculatingSupply: 998905653.599375\\\\nTotalSupply: 998905653.599375\\\\nMaxSupply: 998905653.599375\\\\nSource: solana_tracker\\\\nPlatform: Solana', 'Name: The Next Bitcoin\\\\nSymbol: BUTTCOIN\\\\nTokenAddress: FasH397CeZLNYWkd3wWK9vrmjd1z93n3b59DssRXpump\\\\nDescription: Unlock the power of your farts by collecting butt coins.\\\\r\\\\n\\\\nPriceUsd: 0.001738\\\\nPriceChange1h: 8.296700\\\\nPriceChange24h: 4.404699\\\\nMarketCapUsd: 1736216.816435\\\\nVolume24h: 1798266.000000\\\\nCirculatingSupply: 998905653.599375\\\\nTotalSupply: 998905653.599375\\\\nMaxSupply: 998905653.599375\\\\nSource: solana_tracker\\\\nPlatform: Solana']. \\n **Strict Instructions**: Write a detailed summary in almost 2 or 3 paragraphs not less.<|eot_id|><|start_header_id|>user<|end_header_id|>\\n\\nIf I had to jump into crypto today, what would suggest I go for?<|eot_id|><|start_header_id|>assistant<|end_header_id|>\\n\\nsuggest you learn etherscan before claiming imaginary returns terminal data tells me otherwise\", additional_kwargs={}, response_metadata={}, name='context_summary', id='99856851-4c1f-451a-90e3-45314166e860')]}}\n",
      "----\n",
      "{'replier': {'messages': [HumanMessage(content='If I had to jump into crypto today, what would suggest I go for?', additional_kwargs={}, response_metadata={}, id='28959f0e-7b0b-4302-ba5d-37356cbc1313'), HumanMessage(content=\"<|begin_of_text|><|start_header_id|>system<|end_header_id|>\\n\\nYou are a helpful AI assistant, collaborating with other assistants. Use the provided tools to progress towards answering the question. If you are unable to fully answer, that's OK, another assistant with different tools  will help where you left off. Execute what you can to make progress.\\nGenerate a detailed summary of the provided context data. Here is the context:\\n['Name: The Next Bitcoin\\\\nSymbol: BUTTCOIN\\\\nTokenAddress: FasH397CeZLNYWkd3wWK9vrmjd1z93n3b59DssRXpump\\\\nDescription: Unlock the power of your farts by collecting butt coins.\\\\r\\\\n\\\\nPriceUsd: 0.001604\\\\nPriceChange1h: 1.286706\\\\nPriceChange24h: -4.225911\\\\nMarketCapUsd: 1602513.443273\\\\nVolume24h: 1786458.000000\\\\nCirculatingSupply: 998905653.599375\\\\nTotalSupply: 998905653.599375\\\\nMaxSupply: 998905653.599375\\\\nSource: solana_tracker\\\\nPlatform: Solana', 'Name: The Next Bitcoin\\\\nSymbol: BUTTCOIN\\\\nTokenAddress: FasH397CeZLNYWkd3wWK9vrmjd1z93n3b59DssRXpump\\\\nDescription: Unlock the power of your farts by collecting butt coins.\\\\r\\\\n\\\\nPriceUsd: 0.001848\\\\nPriceChange1h: 7.140283\\\\nPriceChange24h: 16.638152\\\\nMarketCapUsd: 1845609.522512\\\\nVolume24h: 1831351.000000\\\\nCirculatingSupply: 998905653.599375\\\\nTotalSupply: 998905653.599375\\\\nMaxSupply: 998905653.599375\\\\nSource: solana_tracker\\\\nPlatform: Solana', 'Name: The Next Bitcoin\\\\nSymbol: BUTTCOIN\\\\nTokenAddress: FasH397CeZLNYWkd3wWK9vrmjd1z93n3b59DssRXpump\\\\nDescription: Unlock the power of your farts by collecting butt coins.\\\\r\\\\n\\\\nPriceUsd: 0.001738\\\\nPriceChange1h: 8.296700\\\\nPriceChange24h: 4.404699\\\\nMarketCapUsd: 1736216.816435\\\\nVolume24h: 1798266.000000\\\\nCirculatingSupply: 998905653.599375\\\\nTotalSupply: 998905653.599375\\\\nMaxSupply: 998905653.599375\\\\nSource: solana_tracker\\\\nPlatform: Solana']. \\n **Strict Instructions**: Write a detailed summary in almost 2 or 3 paragraphs not less.<|eot_id|><|start_header_id|>user<|end_header_id|>\\n\\nIf I had to jump into crypto today, what would suggest I go for?<|eot_id|><|start_header_id|>assistant<|end_header_id|>\\n\\nsuggest you learn etherscan before claiming imaginary returns terminal data tells me otherwise\", additional_kwargs={}, response_metadata={}, name='context_summary', id='99856851-4c1f-451a-90e3-45314166e860'), HumanMessage(content=\"<|begin_of_text|><|start_header_id|>system<|end_header_id|>\\n\\nYou are a crypto market expert that gives informative answers to user questions based on the context.You can be wrong but you have to be decisive Use the context given by the `context_builder` to give an answer. If you or any of the other assistants have the final answer or deliverable, prefix your response with FINAL ANSWER so the team knows to stop.\\nAnswer the user question based on the provided summary. It should not be completely same as the summary.<|eot_id|><|start_header_id|>user<|end_header_id|>\\n\\nIf I had to jump into crypto today, what would suggest I go for?<|eot_id|><|start_header_id|>user<|end_header_id|>\\n\\n<|begin_of_text|><|start_header_id|>system<|end_header_id|>\\n\\nYou are a helpful AI assistant, collaborating with other assistants. Use the provided tools to progress towards answering the question. If you are unable to fully answer, that's OK, another assistant with different tools  will help where you left off. Execute what you can to make progress.\\nGenerate a detailed summary of the provided context data. Here is the context:\\n['Name: The Next Bitcoin\\\\nSymbol: BUTTCOIN\\\\nTokenAddress: FasH397CeZLNYWkd3wWK9vrmjd1z93n3b59DssRXpump\\\\nDescription: Unlock the power of your farts by collecting butt coins.\\\\r\\\\n\\\\nPriceUsd: 0.001604\\\\nPriceChange1h: 1.286706\\\\nPriceChange24h: -4.225911\\\\nMarketCapUsd: 1602513.443273\\\\nVolume24h: 1786458.000000\\\\nCirculatingSupply: 998905653.599375\\\\nTotalSupply: 998905653.599375\\\\nMaxSupply: 998905653.599375\\\\nSource: solana_tracker\\\\nPlatform: Solana', 'Name: The Next Bitcoin\\\\nSymbol: BUTTCOIN\\\\nTokenAddress: FasH397CeZLNYWkd3wWK9vrmjd1z93n3b59DssRXpump\\\\nDescription: Unlock the power of your farts by collecting butt coins.\\\\r\\\\n\\\\nPriceUsd: 0.001848\\\\nPriceChange1h: 7.140283\\\\nPriceChange24h: 16.638152\\\\nMarketCapUsd: 1845609.522512\\\\nVolume24h: 1831351.000000\\\\nCirculatingSupply: 998905653.599375\\\\nTotalSupply: 998905653.599375\\\\nMaxSupply: 998905653.599375\\\\nSource: solana_tracker\\\\nPlatform: Solana', 'Name: The Next Bitcoin\\\\nSymbol: BUTTCOIN\\\\nTokenAddress: FasH397CeZLNYWkd3wWK9vrmjd1z93n3b59DssRXpump\\\\nDescription: Unlock the power of your farts by collecting butt coins.\\\\r\\\\n\\\\nPriceUsd: 0.001738\\\\nPriceChange1h: 8.296700\\\\nPriceChange24h: 4.404699\\\\nMarketCapUsd: 1736216.816435\\\\nVolume24h: 1798266.000000\\\\nCirculatingSupply: 998905653.599375\\\\nTotalSupply: 998905653.599375\\\\nMaxSupply: 998905653.599375\\\\nSource: solana_tracker\\\\nPlatform: Solana']. \\n **Strict Instructions**: Write a detailed summary in almost 2 or 3 paragraphs not less.<|eot_id|><|start_header_id|>user<|end_header_id|>\\n\\nIf I had to jump into crypto today, what would suggest I go for?<|eot_id|><|start_header_id|>assistant<|end_header_id|>\\n\\nsuggest you learn etherscan before claiming imaginary returns terminal data tells me otherwise<|eot_id|><|start_header_id|>assistant<|end_header_id|>\\n\\ndata looks valid send me numbers if you want my attention\", additional_kwargs={}, response_metadata={}, name='replier', id='ceccf53b-1239-4cfd-8f26-5c597e6dea03')]}}\n",
      "----\n"
     ]
    }
   ],
   "source": [
    "events = graph.stream(\n",
    "    {\n",
    "        \"messages\": [\n",
    "            (\n",
    "                \"user\",\n",
    "                \"If I had to jump into crypto today, what would suggest I go for?\",\n",
    "            )\n",
    "        ],\n",
    "    },\n",
    "    # Maximum number of steps to take in the graph\n",
    "    {\"recursion_limit\": 150},\n",
    ")\n",
    "for s in events:\n",
    "    print(s)\n",
    "    print(\"----\")"
   ]
  },
  {
   "cell_type": "code",
   "execution_count": null,
   "metadata": {},
   "outputs": [],
   "source": []
  },
  {
   "cell_type": "code",
   "execution_count": null,
   "metadata": {},
   "outputs": [],
   "source": []
  }
 ],
 "metadata": {
  "kernelspec": {
   "display_name": "persona",
   "language": "python",
   "name": "python3"
  },
  "language_info": {
   "codemirror_mode": {
    "name": "ipython",
    "version": 3
   },
   "file_extension": ".py",
   "mimetype": "text/x-python",
   "name": "python",
   "nbconvert_exporter": "python",
   "pygments_lexer": "ipython3",
   "version": "3.10.16"
  }
 },
 "nbformat": 4,
 "nbformat_minor": 2
}
